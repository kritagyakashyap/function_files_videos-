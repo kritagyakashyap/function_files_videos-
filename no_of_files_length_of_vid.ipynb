{
 "cells": [
  {
   "cell_type": "code",
   "execution_count": 1,
   "id": "c4aef052",
   "metadata": {},
   "outputs": [],
   "source": [
    "#pip install moviepy"
   ]
  },
  {
   "cell_type": "code",
   "execution_count": 1,
   "id": "d941c6bf",
   "metadata": {},
   "outputs": [],
   "source": [
    "import os\n",
    "import mimetypes\n",
    "from moviepy.editor import VideoFileClip"
   ]
  },
  {
   "cell_type": "code",
   "execution_count": 7,
   "id": "890f1147",
   "metadata": {},
   "outputs": [],
   "source": [
    "import os\n",
    "import mimetypes\n",
    "from moviepy.editor import VideoFileClip\n",
    "\n",
    "def count_files_and_videos(path):\n",
    "    total = 0\n",
    "    videos = 0\n",
    "    total_video_length = 0  # in seconds\n",
    "\n",
    "    for root, dirs, files in os.walk(path):\n",
    "        for f in files:\n",
    "            total += 1\n",
    "            file_path = os.path.join(root, f)\n",
    "\n",
    "            mime_type, _ = mimetypes.guess_type(file_path)\n",
    "            if mime_type and mime_type.startswith('video'):\n",
    "                videos += 1\n",
    "                try:\n",
    "                    video_clip = VideoFileClip(file_path)\n",
    "                    total_video_length += video_clip.duration\n",
    "\n",
    "                except Exception as e:\n",
    "                    print(f\"Error while processing {file_path}: {str(e)}\")\n",
    "\n",
    "    total_video_length_hours = total_video_length // 3600\n",
    "    total_video_length_minutes = (total_video_length % 3600) // 60\n",
    "    total_video_length_seconds = total_video_length % 60\n",
    "    \n",
    "    return total, videos, total_video_length_hours, total_video_length_minutes, total_video_length_seconds"
   ]
  },
  {
   "cell_type": "code",
   "execution_count": 10,
   "id": "ebf69544",
   "metadata": {},
   "outputs": [],
   "source": [
    "path =r\"C:\\New folder\"\n",
    "total, videos, hours, minutes, seconds= count_files_and_videos(path)"
   ]
  },
  {
   "cell_type": "code",
   "execution_count": 11,
   "id": "37607dcd",
   "metadata": {},
   "outputs": [
    {
     "name": "stdout",
     "output_type": "stream",
     "text": [
      "Total files: 3\n",
      "Video files: 3\n",
      "Total Video Length: 0.0 hr 0.0 minutes 48.6 seconds\n"
     ]
    }
   ],
   "source": [
    "print(f\"Total files: {total}\")\n",
    "print(f\"Video files: {videos}\")\n",
    "print(f\"Total Video Length: {hours} hr {minutes} minutes {seconds} seconds\")"
   ]
  },
  {
   "cell_type": "code",
   "execution_count": null,
   "id": "dc2f64b4",
   "metadata": {},
   "outputs": [],
   "source": []
  }
 ],
 "metadata": {
  "kernelspec": {
   "display_name": "Python 3 (ipykernel)",
   "language": "python",
   "name": "python3"
  },
  "language_info": {
   "codemirror_mode": {
    "name": "ipython",
    "version": 3
   },
   "file_extension": ".py",
   "mimetype": "text/x-python",
   "name": "python",
   "nbconvert_exporter": "python",
   "pygments_lexer": "ipython3",
   "version": "3.11.3"
  }
 },
 "nbformat": 4,
 "nbformat_minor": 5
}
