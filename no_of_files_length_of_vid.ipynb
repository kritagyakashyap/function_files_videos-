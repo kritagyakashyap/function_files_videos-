{
 "cells": [
  {
   "cell_type": "code",
   "execution_count": 26,
   "id": "176c48f4",
   "metadata": {},
   "outputs": [
    {
     "name": "stdout",
     "output_type": "stream",
     "text": [
      "Collecting moviepy\n",
      "  Downloading moviepy-1.0.3.tar.gz (388 kB)\n",
      "                                              0.0/388.3 kB ? eta -:--:--\n",
      "     -                                        10.2/388.3 kB ? eta -:--:--\n",
      "     -------                               81.9/388.3 kB 919.0 kB/s eta 0:00:01\n",
      "     --------                              92.2/388.3 kB 871.5 kB/s eta 0:00:01\n",
      "     ----------                           112.6/388.3 kB 726.2 kB/s eta 0:00:01\n",
      "     ----------                           112.6/388.3 kB 726.2 kB/s eta 0:00:01\n",
      "     -----------                          122.9/388.3 kB 450.6 kB/s eta 0:00:01\n",
      "     -------------                        143.4/388.3 kB 426.7 kB/s eta 0:00:01\n",
      "     -------------                        143.4/388.3 kB 426.7 kB/s eta 0:00:01\n",
      "     ---------------                      163.8/388.3 kB 409.6 kB/s eta 0:00:01\n",
      "     ---------------                      163.8/388.3 kB 409.6 kB/s eta 0:00:01\n",
      "     ----------------                     174.1/388.3 kB 327.7 kB/s eta 0:00:01\n",
      "     ----------------                     174.1/388.3 kB 327.7 kB/s eta 0:00:01\n",
      "     ------------------                   194.6/388.3 kB 310.3 kB/s eta 0:00:01\n",
      "     ------------------                   194.6/388.3 kB 310.3 kB/s eta 0:00:01\n",
      "     ------------------                   204.8/388.3 kB 283.2 kB/s eta 0:00:01\n",
      "     ------------------                   204.8/388.3 kB 283.2 kB/s eta 0:00:01\n",
      "     --------------------                 225.3/388.3 kB 280.7 kB/s eta 0:00:01\n",
      "     ----------------------               245.8/388.3 kB 279.1 kB/s eta 0:00:01\n",
      "     -----------------------              256.0/388.3 kB 280.9 kB/s eta 0:00:01\n",
      "     -----------------------              256.0/388.3 kB 280.9 kB/s eta 0:00:01\n",
      "     -------------------------            276.5/388.3 kB 274.8 kB/s eta 0:00:01\n",
      "     --------------------------           286.7/388.3 kB 268.2 kB/s eta 0:00:01\n",
      "     --------------------------           286.7/388.3 kB 268.2 kB/s eta 0:00:01\n",
      "     ----------------------------         307.2/388.3 kB 264.0 kB/s eta 0:00:01\n",
      "     ----------------------------         307.2/388.3 kB 264.0 kB/s eta 0:00:01\n",
      "     ------------------------------       327.7/388.3 kB 257.2 kB/s eta 0:00:01\n",
      "     ------------------------------       327.7/388.3 kB 257.2 kB/s eta 0:00:01\n",
      "     -------------------------------      337.9/388.3 kB 249.8 kB/s eta 0:00:01\n",
      "     ---------------------------------    358.4/388.3 kB 253.2 kB/s eta 0:00:01\n",
      "     ----------------------------------   368.6/388.3 kB 254.9 kB/s eta 0:00:01\n",
      "     ------------------------------------ 388.3/388.3 kB 260.2 kB/s eta 0:00:00\n",
      "  Preparing metadata (setup.py): started\n",
      "  Preparing metadata (setup.py): finished with status 'done'\n",
      "Collecting decorator<5.0,>=4.0.2 (from moviepy)\n",
      "  Downloading decorator-4.4.2-py2.py3-none-any.whl (9.2 kB)\n",
      "Requirement already satisfied: tqdm<5.0,>=4.11.2 in c:\\users\\mailt\\anaconda3\\lib\\site-packages (from moviepy) (4.65.0)\n",
      "Requirement already satisfied: requests<3.0,>=2.8.1 in c:\\users\\mailt\\anaconda3\\lib\\site-packages (from moviepy) (2.29.0)\n",
      "Collecting proglog<=1.0.0 (from moviepy)\n",
      "  Downloading proglog-0.1.10-py3-none-any.whl (6.1 kB)\n",
      "Requirement already satisfied: numpy>=1.17.3 in c:\\users\\mailt\\anaconda3\\lib\\site-packages (from moviepy) (1.24.3)\n",
      "Requirement already satisfied: imageio<3.0,>=2.5 in c:\\users\\mailt\\anaconda3\\lib\\site-packages (from moviepy) (2.26.0)\n",
      "Requirement already satisfied: imageio_ffmpeg>=0.2.0 in c:\\users\\mailt\\anaconda3\\lib\\site-packages (from moviepy) (0.4.9)\n",
      "Requirement already satisfied: pillow>=8.3.2 in c:\\users\\mailt\\anaconda3\\lib\\site-packages (from imageio<3.0,>=2.5->moviepy) (9.4.0)\n",
      "Requirement already satisfied: setuptools in c:\\users\\mailt\\anaconda3\\lib\\site-packages (from imageio_ffmpeg>=0.2.0->moviepy) (67.8.0)\n",
      "Requirement already satisfied: charset-normalizer<4,>=2 in c:\\users\\mailt\\anaconda3\\lib\\site-packages (from requests<3.0,>=2.8.1->moviepy) (2.0.4)\n",
      "Requirement already satisfied: idna<4,>=2.5 in c:\\users\\mailt\\anaconda3\\lib\\site-packages (from requests<3.0,>=2.8.1->moviepy) (3.4)\n",
      "Requirement already satisfied: urllib3<1.27,>=1.21.1 in c:\\users\\mailt\\anaconda3\\lib\\site-packages (from requests<3.0,>=2.8.1->moviepy) (1.26.16)\n",
      "Requirement already satisfied: certifi>=2017.4.17 in c:\\users\\mailt\\anaconda3\\lib\\site-packages (from requests<3.0,>=2.8.1->moviepy) (2023.5.7)\n",
      "Requirement already satisfied: colorama in c:\\users\\mailt\\appdata\\roaming\\python\\python311\\site-packages (from tqdm<5.0,>=4.11.2->moviepy) (0.4.6)\n",
      "Building wheels for collected packages: moviepy\n",
      "  Building wheel for moviepy (setup.py): started\n",
      "  Building wheel for moviepy (setup.py): finished with status 'done'\n",
      "  Created wheel for moviepy: filename=moviepy-1.0.3-py3-none-any.whl size=110773 sha256=d918e809f736f813134379242faa40b69a413f7b5c355ae08fbc3d35266d4fdb\n",
      "  Stored in directory: c:\\users\\mailt\\appdata\\local\\pip\\cache\\wheels\\83\\b1\\d9\\119ef7c144b44d591ec0a9a140465133c23ea95d2a161184ba\n",
      "Successfully built moviepy\n",
      "Installing collected packages: decorator, proglog, moviepy\n",
      "  Attempting uninstall: decorator\n",
      "    Found existing installation: decorator 5.1.1\n",
      "    Uninstalling decorator-5.1.1:\n",
      "      Successfully uninstalled decorator-5.1.1\n",
      "Successfully installed decorator-4.4.2 moviepy-1.0.3 proglog-0.1.10\n",
      "Note: you may need to restart the kernel to use updated packages.\n"
     ]
    }
   ],
   "source": [
    "pip install moviepy"
   ]
  },
  {
   "cell_type": "code",
   "execution_count": 1,
   "id": "51dfe2b2",
   "metadata": {},
   "outputs": [],
   "source": [
    "import os\n",
    "import mimetypes\n",
    "from moviepy.editor import VideoFileClip"
   ]
  },
  {
   "cell_type": "code",
   "execution_count": 46,
   "id": "1a7464de",
   "metadata": {},
   "outputs": [],
   "source": [
    "# def count_files_and_videos(path):\n",
    "#     total = 0\n",
    "#     videos = 0\n",
    "#     total_video_length=0\n",
    "\n",
    "#     for root, dirs, files in os.walk(path):\n",
    "#         for f in files:\n",
    "#             total+= 1\n",
    "#             file_path = os.path.join(root, f)\n",
    "\n",
    "#             mime_type, _ = mimetypes.guess_type(file_path)\n",
    "#             if mime_type and mime_type.startswith('video'):\n",
    "#                 videos+= 1\n",
    "#                 try:\n",
    "#                     video_clip = VideoFileClip(file_path)\n",
    "#                     total_video_length += video_clip.duration\n",
    "        \n",
    "#         total_video_length_minutes=total_video_length / 60\n",
    "#         total_video_length_hours = total_video_length / 3600\n",
    "\n",
    "#     return total, videos,total_video_length_minutes,total_video_length_hours"
   ]
  },
  {
   "cell_type": "code",
   "execution_count": 43,
   "id": "3797ea49",
   "metadata": {},
   "outputs": [],
   "source": [
    "import os\n",
    "import mimetypes\n",
    "from moviepy.editor import VideoFileClip\n",
    "\n",
    "def count_files_and_videos(path):\n",
    "    total = 0\n",
    "    videos = 0\n",
    "    total_video_length = 0  # in seconds\n",
    "\n",
    "    for root, dirs, files in os.walk(path):\n",
    "        for f in files:\n",
    "            total += 1\n",
    "            file_path = os.path.join(root, f)\n",
    "\n",
    "            mime_type, _ = mimetypes.guess_type(file_path)\n",
    "            if mime_type and mime_type.startswith('video'):\n",
    "                videos += 1\n",
    "                try:\n",
    "                    video_clip = VideoFileClip(file_path)\n",
    "                    total_video_length += video_clip.duration\n",
    "\n",
    "                except Exception as e:\n",
    "                    print(f\"Error while processing {file_path}: {str(e)}\")\n",
    "\n",
    "    total_video_length_minutes = total_video_length / 60\n",
    "    total_video_length_hours = total_video_length / 3600\n",
    "\n",
    "    return total, videos, total_video_length_minutes, total_video_length_hours"
   ]
  },
  {
   "cell_type": "code",
   "execution_count": 49,
   "id": "ae070f87",
   "metadata": {},
   "outputs": [],
   "source": [
    "path =r\"C:\\New folder\"\n",
    "total, videos ,total_video_length_minutes, total_video_length_hours= count_files_and_videos(path)"
   ]
  },
  {
   "cell_type": "code",
   "execution_count": 50,
   "id": "1235eca8",
   "metadata": {},
   "outputs": [
    {
     "name": "stdout",
     "output_type": "stream",
     "text": [
      "Total files: 3\n",
      "Video files: 3\n",
      "Total video length (in minutes): 0.81\n",
      "Total video length (in hours): 0.01\n"
     ]
    }
   ],
   "source": [
    "print(f\"Total files: {total}\")\n",
    "print(f\"Video files: {videos}\")\n",
    "print(f\"Total video length (in minutes): {total_video_length_minutes:.2f}\")\n",
    "print(f\"Total video length (in hours): {total_video_length_hours:.2f}\")\n"
   ]
  },
  {
   "cell_type": "code",
   "execution_count": null,
   "id": "1a7804e1",
   "metadata": {},
   "outputs": [],
   "source": []
  }
 ],
 "metadata": {
  "kernelspec": {
   "display_name": "Python 3 (ipykernel)",
   "language": "python",
   "name": "python3"
  },
  "language_info": {
   "codemirror_mode": {
    "name": "ipython",
    "version": 3
   },
   "file_extension": ".py",
   "mimetype": "text/x-python",
   "name": "python",
   "nbconvert_exporter": "python",
   "pygments_lexer": "ipython3",
   "version": "3.11.3"
  }
 },
 "nbformat": 4,
 "nbformat_minor": 5
}
